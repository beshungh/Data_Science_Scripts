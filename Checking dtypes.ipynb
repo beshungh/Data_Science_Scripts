{
 "cells": [
  {
   "cell_type": "code",
   "execution_count": 2,
   "metadata": {},
   "outputs": [
    {
     "name": "stdout",
     "output_type": "stream",
     "text": [
      "Using ISO-8859-1 encoding for Customers.csv\n",
      "Using ISO-8859-1 encoding for Orders.csv\n",
      "Using ISO-8859-1 encoding for Products.csv\n",
      "Using ISO-8859-1 encoding for Returns.csv\n",
      "\n",
      "File: Customers.csv\n",
      "Columns and Datatypes:\n",
      "customer_id: object\n",
      "customer_name: object\n",
      "segment: object\n",
      "postal_code: float64\n",
      "city: object\n",
      "state: object\n",
      "country: object\n",
      "region: object\n",
      "market: object\n",
      "\n",
      "File: Orders.csv\n",
      "Columns and Datatypes:\n",
      "order_id: object\n",
      "order_date: object\n",
      "ship_date: object\n",
      "ship_mode: object\n",
      "customer_id: object\n",
      "product_id: object\n",
      "sales: object\n",
      "quantity: int64\n",
      "discount: float64\n",
      "profit: object\n",
      "shipping_cost: float64\n",
      "order_priority: object\n",
      "\n",
      "File: Products.csv\n",
      "Columns and Datatypes:\n",
      "product_id: object\n",
      "category: object\n",
      "sub_category: object\n",
      "product_name: object\n",
      "\n",
      "File: Returns.csv\n",
      "Columns and Datatypes:\n",
      "returned: object\n",
      "order_id: object\n",
      "region: object\n",
      "customer_id: object\n",
      "product_id: object\n"
     ]
    }
   ],
   "source": [
    "import os\n",
    "import numpy as np\n",
    "import pandas as pd\n",
    "\n",
    "# Find CSV files in the current directory\n",
    "csv_files = [file for file in os.listdir(os.getcwd()) if file.endswith('.csv')]\n",
    "\n",
    "# Read CSV files into Pandas DataFrames\n",
    "df = {}\n",
    "for file in csv_files:\n",
    "    file_path = os.path.join(os.getcwd(), file)\n",
    "    try:\n",
    "        df[file] = pd.read_csv(file_path, encoding=\"ISO-8859-1\")\n",
    "        print(f\"Using ISO-8859-1 encoding for {file}\")\n",
    "    except UnicodeDecodeError:\n",
    "        print(f\"Error decoding file {file}\")\n",
    "\n",
    "# Iterate over DataFrames, print column names and datatypes\n",
    "for file, dataframe in df.items():\n",
    "    print(f\"\\nFile: {file}\")\n",
    "    print(f\"Columns and Datatypes:\")\n",
    "    for column, datatype in zip(dataframe.columns, dataframe.dtypes):\n",
    "        print(f\"{column}: {datatype}\")\n",
    "\n"
   ]
  }
 ],
 "metadata": {
  "kernelspec": {
   "display_name": "DA-env",
   "language": "python",
   "name": "python3"
  },
  "language_info": {
   "codemirror_mode": {
    "name": "ipython",
    "version": 3
   },
   "file_extension": ".py",
   "mimetype": "text/x-python",
   "name": "python",
   "nbconvert_exporter": "python",
   "pygments_lexer": "ipython3",
   "version": "3.11.7"
  }
 },
 "nbformat": 4,
 "nbformat_minor": 2
}
