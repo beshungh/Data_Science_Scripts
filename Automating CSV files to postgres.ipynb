{
 "cells": [
  {
   "cell_type": "markdown",
   "metadata": {},
   "source": [
    "Importing a CSV file into a postgres database\n",
    "\n",
    "Steps\n",
    "\n",
    "1.Import the CSV file into a pandas df"
   ]
  },
  {
   "cell_type": "code",
   "execution_count": 1,
   "metadata": {},
   "outputs": [],
   "source": [
    "import os\n",
    "import numpy as np\n",
    "import pandas as pd\n",
    "import psycopg2"
   ]
  },
  {
   "cell_type": "code",
   "execution_count": null,
   "metadata": {},
   "outputs": [],
   "source": [
    "#Find CSV files in my current directory\n",
    "#Isolate only the CSV files\n",
    "#Make a new directory \n",
    "#Move the CSV files in the new directory"
   ]
  },
  {
   "cell_type": "code",
   "execution_count": 2,
   "metadata": {},
   "outputs": [],
   "source": [
    "#Find CSV files in my current directory\n",
    "#Isolate only the CSV files\n",
    "\n",
    "csv_files = []\n",
    "for file in os.listdir(os.getcwd()):\n",
    "    if file.endswith('.csv'):\n",
    "        csv_files.append(file)\n",
    "\n"
   ]
  },
  {
   "cell_type": "code",
   "execution_count": 3,
   "metadata": {},
   "outputs": [],
   "source": [
    "#Make a new directory\n",
    "\n",
    "dataset_dir = 'datasets'\n",
    "\n",
    "#create the bash command to make a new directory \n",
    "# mkdir dataset_dir\n",
    "\n",
    "try:\n",
    "    mkdir = 'mkdir {0}'.format(dataset_dir)\n",
    "    os.system(mkdir)\n",
    "except:\n",
    "    pass\n"
   ]
  },
  {
   "cell_type": "code",
   "execution_count": 7,
   "metadata": {},
   "outputs": [
    {
     "name": "stdout",
     "output_type": "stream",
     "text": [
      "mv 'coviddeaths.csv' datasets\n",
      "mv 'googleplaystore.csv' datasets\n",
      "mv 'Mobile-Phones.csv' datasets\n"
     ]
    }
   ],
   "source": [
    "#Move the CSV files in the new directory\n",
    "\n",
    "#mv filename directory \n",
    "for csv in csv_files:\n",
    "    mv_file = \"mv '{0}' {1}\".format(csv, dataset_dir)\n",
    "    os.system(mv_file)\n",
    "    print(mv_file)\n",
    "\n",
    "\n"
   ]
  },
  {
   "cell_type": "code",
   "execution_count": null,
   "metadata": {},
   "outputs": [],
   "source": [
    "#Create the pandas df from the CSV file\n",
    "\n",
    "data_path = os.getcwd()+'/'+dataset_dir+'/'\n",
    "\n",
    "df = {}\n",
    "for file in csv_files:\n",
    "    try:\n",
    "        df[file] = pd.read_csv(data_path+file) \n",
    "    except UnicodeDecodeError:\n",
    "        df[file] = pd.read_csv(data_path+file, encoding=\"ISO-8859-1\")\n",
    "        print(file)"
   ]
  },
  {
   "cell_type": "code",
   "execution_count": 8,
   "metadata": {},
   "outputs": [
    {
     "data": {
      "text/plain": [
       "'coviddeaths'"
      ]
     },
     "execution_count": 8,
     "metadata": {},
     "output_type": "execute_result"
    }
   ],
   "source": [
    "#Clean table name\n",
    "#Lower case letters\n",
    "#remove all white spaces and $\n",
    "#replace -,/,\\\\ with _\n",
    "\n",
    "file = \"CovidDeaths.\"\n",
    "clean_table_name = file.lower().replace(\" \",\"_\").replace(\"?\",\"\") \\\n",
    "    .replace(\"-\",\"_\").replace(r\"/\",\"_\").replace(\"\\\\\",\"_\").replace(\"%\",\"\") \\\n",
    "        .replace(\")\",\"\").replace(r\"(\",\"\").replace(\"$\",\"\").replace(\".\",\"\") \\\n",
    "        \n",
    "        \n",
    "\n",
    "clean_table_name"
   ]
  },
  {
   "cell_type": "code",
   "execution_count": 9,
   "metadata": {},
   "outputs": [
    {
     "data": {
      "text/plain": [
       "Index(['iso_code', 'continent', 'location', 'date', 'population',\n",
       "       'total_cases', 'new_cases', 'new_cases_smoothed', 'total_deaths',\n",
       "       'new_deaths', 'new_deaths_smoothed', 'total_cases_per_million',\n",
       "       'new_cases_per_million', 'new_cases_smoothed_per_million',\n",
       "       'total_deaths_per_million', 'new_deaths_per_million',\n",
       "       'new_deaths_smoothed_per_million', 'reproduction_rate', 'icu_patients',\n",
       "       'icu_patients_per_million', 'hosp_patients',\n",
       "       'hosp_patients_per_million', 'weekly_icu_admissions',\n",
       "       'weekly_icu_admissions_per_million', 'weekly_hosp_admissions',\n",
       "       'weekly_hosp_admissions_per_million'],\n",
       "      dtype='object')"
      ]
     },
     "execution_count": 9,
     "metadata": {},
     "output_type": "execute_result"
    }
   ],
   "source": [
    "#Clean header name\n",
    "#Lower case letters\n",
    "#remove all white spaces and $\n",
    "#replace -,/,\\\\ with _\n",
    "\n",
    "df.columns = [x.lower().replace(\" \",\"_\").replace(\"?\",\"\") \\\n",
    "    .replace(\"-\",\"_\").replace(r\"/\",\"_\").replace(\"\\\\\",\"_\").replace(\"%\",\"\") \\\n",
    "        .replace(\")\",\"\").replace(r\"(\",\"\").replace(\"$\",\"\").replace(\".\",\"\") for x in df.columns]\n",
    "\n",
    "\n",
    "df.columns"
   ]
  },
  {
   "cell_type": "code",
   "execution_count": 10,
   "metadata": {},
   "outputs": [
    {
     "ename": "SyntaxError",
     "evalue": "invalid syntax (2796403676.py, line 3)",
     "output_type": "error",
     "traceback": [
      "\u001b[1;36m  Cell \u001b[1;32mIn[10], line 3\u001b[1;36m\u001b[0m\n\u001b[1;33m    create table coviddeaths\u001b[0m\n\u001b[1;37m           ^\u001b[0m\n\u001b[1;31mSyntaxError\u001b[0m\u001b[1;31m:\u001b[0m invalid syntax\n"
     ]
    }
   ],
   "source": [
    "#Creating  our database tables in postgres\n",
    "\n",
    "create table coviddeaths\n",
    "(\n",
    "iso_code                                      varchar,\n",
    "continent                                     varchar,\n",
    "location                                      varchar,\n",
    "date                                          date,\n",
    "population                                     bigint,\n",
    "total_cases                                  float,\n",
    "new_cases                                    float,\n",
    "new_cases_smoothed                           float,\n",
    "total_deaths                                 float,\n",
    "new_deaths                                   float,\n",
    "new_deaths_smoothed                          float,\n",
    "total_cases_per_million                      float,\n",
    "new_cases_per_million                        float,\n",
    "new_cases_smoothed_per_million               float,\n",
    "total_deaths_per_million                     float,\n",
    "new_deaths_per_million                       float,\n",
    "new_deaths_smoothed_per_million              float,\n",
    "reproduction_rate                            float,\n",
    "icu_patients                                 float,\n",
    "icu_patients_per_million                     float,\n",
    "hosp_patients                                float,\n",
    "hosp_patients_per_million                    float,\n",
    "weekly_icu_admissions                        float,\n",
    "weekly_icu_admissions_per_million            float,\n",
    "weekly_hosp_admissions                       float,\n",
    "weekly_hosp_admissions_per_million           float,\n",
    ");\n",
    "\n"
   ]
  },
  {
   "cell_type": "code",
   "execution_count": 11,
   "metadata": {},
   "outputs": [
    {
     "data": {
      "text/plain": [
       "iso_code                                      object\n",
       "continent                                     object\n",
       "location                                      object\n",
       "date                                  datetime64[ns]\n",
       "population                                     int64\n",
       "total_cases                                  float64\n",
       "new_cases                                    float64\n",
       "new_cases_smoothed                           float64\n",
       "total_deaths                                 float64\n",
       "new_deaths                                   float64\n",
       "new_deaths_smoothed                          float64\n",
       "total_cases_per_million                      float64\n",
       "new_cases_per_million                        float64\n",
       "new_cases_smoothed_per_million               float64\n",
       "total_deaths_per_million                     float64\n",
       "new_deaths_per_million                       float64\n",
       "new_deaths_smoothed_per_million              float64\n",
       "reproduction_rate                            float64\n",
       "icu_patients                                 float64\n",
       "icu_patients_per_million                     float64\n",
       "hosp_patients                                float64\n",
       "hosp_patients_per_million                    float64\n",
       "weekly_icu_admissions                        float64\n",
       "weekly_icu_admissions_per_million            float64\n",
       "weekly_hosp_admissions                       float64\n",
       "weekly_hosp_admissions_per_million           float64\n",
       "dtype: object"
      ]
     },
     "execution_count": 11,
     "metadata": {},
     "output_type": "execute_result"
    }
   ],
   "source": [
    "#Checking my data types\n",
    "\n",
    "df.dtypes \n",
    "\n"
   ]
  },
  {
   "cell_type": "code",
   "execution_count": 12,
   "metadata": {},
   "outputs": [
    {
     "data": {
      "text/plain": [
       "{'object': 'varchar',\n",
       " 'float64': 'float',\n",
       " 'int64': 'bigint',\n",
       " 'timedelta64[ns]': 'varchar',\n",
       " 'datetime64': 'time',\n",
       " 'bool': 'boolean',\n",
       " 'json_normalize': 'json',\n",
       " 'datetime64[ns]': 'date'}"
      ]
     },
     "execution_count": 12,
     "metadata": {},
     "output_type": "execute_result"
    }
   ],
   "source": [
    "#Created a dictionary to replace pandas datatypes with postgres datatypes\n",
    "\n",
    "replacements = { \n",
    "    'object': 'varchar',\n",
    "    'float64': 'float',\n",
    "    'int64': 'bigint',\n",
    "    'timedelta64[ns]':'varchar',\n",
    "    'datetime64':'timestamp',\n",
    "    'bool': 'boolean',\n",
    "    'json_normalize': 'json',  \n",
    "    'datetime64[ns]': 'date',\n",
    "    'datetime64': 'time'\n",
    "    }\n",
    "\n",
    "replacements"
   ]
  },
  {
   "cell_type": "code",
   "execution_count": 13,
   "metadata": {},
   "outputs": [
    {
     "data": {
      "text/plain": [
       "'iso_code varchar, continent varchar, location varchar, date date, population bigint, total_cases float, new_cases float, new_cases_smoothed float, total_deaths float, new_deaths float, new_deaths_smoothed float, total_cases_per_million float, new_cases_per_million float, new_cases_smoothed_per_million float, total_deaths_per_million float, new_deaths_per_million float, new_deaths_smoothed_per_million float, reproduction_rate float, icu_patients float, icu_patients_per_million float, hosp_patients float, hosp_patients_per_million float, weekly_icu_admissions float, weekly_icu_admissions_per_million float, weekly_hosp_admissions float, weekly_hosp_admissions_per_million float'"
      ]
     },
     "execution_count": 13,
     "metadata": {},
     "output_type": "execute_result"
    }
   ],
   "source": [
    "#joining the database tables their accepted postgres datatypes\n",
    "\n",
    "col_str = \", \".join(\"{} {}\".format(n, d) for (n, d) in zip(df.columns, df.dtypes.replace(replacements)))\n",
    "\n",
    "\n",
    "col_str"
   ]
  },
  {
   "cell_type": "code",
   "execution_count": 14,
   "metadata": {},
   "outputs": [
    {
     "name": "stdout",
     "output_type": "stream",
     "text": [
      "opened the database successfully\n"
     ]
    }
   ],
   "source": [
    "#connecting to the postgres database\n",
    "conn_string =hostname = 'localhost'\n",
    "database = 'projectsdb'\n",
    "username = 'postgres'\n",
    "pwd = 'password'\n",
    "port_id = 5432\n",
    "conn = psycopg2.connect(\n",
    "    host=hostname,\n",
    "    dbname=database,\n",
    "    user=username,\n",
    "    password=pwd,\n",
    "    port=port_id)\n",
    "cursor = conn.cursor()\n",
    "print('opened the database successfully')\n",
    "\n",
    "\n",
    "\n",
    "\n",
    "\n"
   ]
  },
  {
   "cell_type": "code",
   "execution_count": 15,
   "metadata": {},
   "outputs": [],
   "source": [
    "#dropping tables with same name\n",
    "\n",
    "cursor.execute(\"drop table if exists coviddeaths;\")\n",
    "\n"
   ]
  },
  {
   "cell_type": "code",
   "execution_count": 16,
   "metadata": {},
   "outputs": [],
   "source": [
    "#create the table\n",
    "\n",
    "cursor.execute(\"CREATE TABLE coviddeaths \"\n",
    "               \"(iso_code VARCHAR, continent VARCHAR, location VARCHAR, \"\n",
    "               \"date DATE, population BIGINT, total_cases FLOAT, new_cases FLOAT, new_cases_smoothed FLOAT, \"\n",
    "               \"total_deaths FLOAT, new_deaths FLOAT, new_deaths_smoothed FLOAT, total_cases_per_million FLOAT, \"\n",
    "               \"new_cases_per_million FLOAT, new_cases_smoothed_per_million FLOAT, total_deaths_per_million FLOAT, \"\n",
    "               \"new_deaths_per_million FLOAT, new_deaths_smoothed_per_million FLOAT, reproduction_rate FLOAT, \"\n",
    "               \"icu_patients FLOAT, icu_patients_per_million FLOAT, hosp_patients FLOAT, \"\n",
    "               \"hosp_patients_per_million FLOAT, weekly_icu_admissions FLOAT, \"\n",
    "               \"weekly_icu_admissions_per_million FLOAT, weekly_hosp_admissions FLOAT, \"\n",
    "               \"weekly_hosp_admissions_per_million FLOAT)\")\n",
    "\n"
   ]
  },
  {
   "cell_type": "code",
   "execution_count": 17,
   "metadata": {},
   "outputs": [
    {
     "name": "stdout",
     "output_type": "stream",
     "text": [
      "file opened in memory\n"
     ]
    }
   ],
   "source": [
    "#inserting values into the tables\n",
    "\n",
    "#save df to CSV \n",
    "df.to_csv('coviddeaths.csv',header=df.columns,index=False,encoding='utf-8')\n",
    "\n",
    "\n",
    "#open the CSV file,save it as an object \n",
    "\n",
    "my_file = open('coviddeaths.csv')\n",
    "print('file opened in memory')\n"
   ]
  },
  {
   "cell_type": "code",
   "execution_count": 18,
   "metadata": {},
   "outputs": [
    {
     "name": "stdout",
     "output_type": "stream",
     "text": [
      "file copied to db\n"
     ]
    }
   ],
   "source": [
    "#upload the object to db\n",
    "\n",
    "SQL_STATEMENT = \"\"\"\n",
    "COPY coviddeaths FROM STDIN WITH \n",
    "   CSV\n",
    "   HEADER\n",
    "   DELIMITER AS ','\n",
    "\"\"\"\n",
    "cursor.copy_expert(sql=SQL_STATEMENT,file=my_file)\n",
    "print('file copied to db')"
   ]
  },
  {
   "cell_type": "code",
   "execution_count": 19,
   "metadata": {},
   "outputs": [
    {
     "name": "stdout",
     "output_type": "stream",
     "text": [
      "coviddeaths tables imported to postgres Successfully\n"
     ]
    }
   ],
   "source": [
    "#Granting user access\n",
    "\n",
    "cursor.execute(\"grant select on table coviddeaths to public\")\n",
    "conn.commit()\n",
    "\n",
    "cursor.close()\n",
    "print('coviddeaths tables imported to postgres Successfully')"
   ]
  },
  {
   "cell_type": "code",
   "execution_count": null,
   "metadata": {},
   "outputs": [],
   "source": []
  },
  {
   "cell_type": "code",
   "execution_count": null,
   "metadata": {},
   "outputs": [],
   "source": []
  },
  {
   "cell_type": "code",
   "execution_count": null,
   "metadata": {},
   "outputs": [],
   "source": []
  },
  {
   "cell_type": "code",
   "execution_count": null,
   "metadata": {},
   "outputs": [],
   "source": []
  }
 ],
 "metadata": {
  "kernelspec": {
   "display_name": "DA-env",
   "language": "python",
   "name": "python3"
  },
  "language_info": {
   "codemirror_mode": {
    "name": "ipython",
    "version": 3
   },
   "file_extension": ".py",
   "mimetype": "text/x-python",
   "name": "python",
   "nbconvert_exporter": "python",
   "pygments_lexer": "ipython3",
   "version": "3.11.7"
  }
 },
 "nbformat": 4,
 "nbformat_minor": 2
}
