{
 "cells": [
  {
   "cell_type": "markdown",
   "metadata": {},
   "source": [
    "Importing a CSV file into a postgres database\n",
    "\n",
    "Steps\n",
    "\n",
    "1.Import the CSV file into a pandas df"
   ]
  },
  {
   "cell_type": "code",
   "execution_count": 5,
   "metadata": {},
   "outputs": [],
   "source": [
    "import os\n",
    "import numpy as np\n",
    "import pandas as pd\n",
    "import psycopg2"
   ]
  },
  {
   "cell_type": "code",
   "execution_count": 6,
   "metadata": {},
   "outputs": [
    {
     "name": "stdout",
     "output_type": "stream",
     "text": [
      " Volume in drive C has no label.\n",
      " Volume Serial Number is 72CC-C2F3\n",
      "\n",
      " Directory of c:\\Users\\BERNARD ESHUN\\Desktop\\DOCUMENTS\\DATA ANALYTICS\\PYTHON\\Data_Science\n",
      "\n",
      "02/23/2024  08:44 PM    <DIR>          .\n",
      "02/23/2024  08:44 PM    <DIR>          ..\n",
      "02/23/2024  08:41 PM        46,306,270 coviddeaths.csv\n",
      "12/25/2023  01:27 PM        33,923,346 CovidDeaths.xlsx\n",
      "12/25/2023  01:25 PM        39,431,079 CovidVaccinations.xlsx\n",
      "02/23/2024  08:51 PM            24,428 Files_to_postgresql.ipynb\n",
      "               4 File(s)    119,685,123 bytes\n",
      "               2 Dir(s)  105,696,063,488 bytes free\n"
     ]
    }
   ],
   "source": [
    "ls"
   ]
  },
  {
   "cell_type": "code",
   "execution_count": 7,
   "metadata": {},
   "outputs": [
    {
     "data": {
      "text/html": [
       "<div>\n",
       "<style scoped>\n",
       "    .dataframe tbody tr th:only-of-type {\n",
       "        vertical-align: middle;\n",
       "    }\n",
       "\n",
       "    .dataframe tbody tr th {\n",
       "        vertical-align: top;\n",
       "    }\n",
       "\n",
       "    .dataframe thead th {\n",
       "        text-align: right;\n",
       "    }\n",
       "</style>\n",
       "<table border=\"1\" class=\"dataframe\">\n",
       "  <thead>\n",
       "    <tr style=\"text-align: right;\">\n",
       "      <th></th>\n",
       "      <th>iso_code</th>\n",
       "      <th>continent</th>\n",
       "      <th>location</th>\n",
       "      <th>date</th>\n",
       "      <th>population</th>\n",
       "      <th>total_cases</th>\n",
       "      <th>new_cases</th>\n",
       "      <th>new_cases_smoothed</th>\n",
       "      <th>total_deaths</th>\n",
       "      <th>new_deaths</th>\n",
       "      <th>...</th>\n",
       "      <th>new_deaths_smoothed_per_million</th>\n",
       "      <th>reproduction_rate</th>\n",
       "      <th>icu_patients</th>\n",
       "      <th>icu_patients_per_million</th>\n",
       "      <th>hosp_patients</th>\n",
       "      <th>hosp_patients_per_million</th>\n",
       "      <th>weekly_icu_admissions</th>\n",
       "      <th>weekly_icu_admissions_per_million</th>\n",
       "      <th>weekly_hosp_admissions</th>\n",
       "      <th>weekly_hosp_admissions_per_million</th>\n",
       "    </tr>\n",
       "  </thead>\n",
       "  <tbody>\n",
       "    <tr>\n",
       "      <th>0</th>\n",
       "      <td>AFG</td>\n",
       "      <td>Asia</td>\n",
       "      <td>Afghanistan</td>\n",
       "      <td>2020-01-03</td>\n",
       "      <td>41128772</td>\n",
       "      <td>NaN</td>\n",
       "      <td>0.0</td>\n",
       "      <td>NaN</td>\n",
       "      <td>NaN</td>\n",
       "      <td>0.0</td>\n",
       "      <td>...</td>\n",
       "      <td>NaN</td>\n",
       "      <td>NaN</td>\n",
       "      <td>NaN</td>\n",
       "      <td>NaN</td>\n",
       "      <td>NaN</td>\n",
       "      <td>NaN</td>\n",
       "      <td>NaN</td>\n",
       "      <td>NaN</td>\n",
       "      <td>NaN</td>\n",
       "      <td>NaN</td>\n",
       "    </tr>\n",
       "    <tr>\n",
       "      <th>1</th>\n",
       "      <td>AFG</td>\n",
       "      <td>Asia</td>\n",
       "      <td>Afghanistan</td>\n",
       "      <td>2020-01-04</td>\n",
       "      <td>41128772</td>\n",
       "      <td>NaN</td>\n",
       "      <td>0.0</td>\n",
       "      <td>NaN</td>\n",
       "      <td>NaN</td>\n",
       "      <td>0.0</td>\n",
       "      <td>...</td>\n",
       "      <td>NaN</td>\n",
       "      <td>NaN</td>\n",
       "      <td>NaN</td>\n",
       "      <td>NaN</td>\n",
       "      <td>NaN</td>\n",
       "      <td>NaN</td>\n",
       "      <td>NaN</td>\n",
       "      <td>NaN</td>\n",
       "      <td>NaN</td>\n",
       "      <td>NaN</td>\n",
       "    </tr>\n",
       "    <tr>\n",
       "      <th>2</th>\n",
       "      <td>AFG</td>\n",
       "      <td>Asia</td>\n",
       "      <td>Afghanistan</td>\n",
       "      <td>2020-01-05</td>\n",
       "      <td>41128772</td>\n",
       "      <td>NaN</td>\n",
       "      <td>0.0</td>\n",
       "      <td>NaN</td>\n",
       "      <td>NaN</td>\n",
       "      <td>0.0</td>\n",
       "      <td>...</td>\n",
       "      <td>NaN</td>\n",
       "      <td>NaN</td>\n",
       "      <td>NaN</td>\n",
       "      <td>NaN</td>\n",
       "      <td>NaN</td>\n",
       "      <td>NaN</td>\n",
       "      <td>NaN</td>\n",
       "      <td>NaN</td>\n",
       "      <td>NaN</td>\n",
       "      <td>NaN</td>\n",
       "    </tr>\n",
       "    <tr>\n",
       "      <th>3</th>\n",
       "      <td>AFG</td>\n",
       "      <td>Asia</td>\n",
       "      <td>Afghanistan</td>\n",
       "      <td>2020-01-06</td>\n",
       "      <td>41128772</td>\n",
       "      <td>NaN</td>\n",
       "      <td>0.0</td>\n",
       "      <td>NaN</td>\n",
       "      <td>NaN</td>\n",
       "      <td>0.0</td>\n",
       "      <td>...</td>\n",
       "      <td>NaN</td>\n",
       "      <td>NaN</td>\n",
       "      <td>NaN</td>\n",
       "      <td>NaN</td>\n",
       "      <td>NaN</td>\n",
       "      <td>NaN</td>\n",
       "      <td>NaN</td>\n",
       "      <td>NaN</td>\n",
       "      <td>NaN</td>\n",
       "      <td>NaN</td>\n",
       "    </tr>\n",
       "    <tr>\n",
       "      <th>4</th>\n",
       "      <td>AFG</td>\n",
       "      <td>Asia</td>\n",
       "      <td>Afghanistan</td>\n",
       "      <td>2020-01-07</td>\n",
       "      <td>41128772</td>\n",
       "      <td>NaN</td>\n",
       "      <td>0.0</td>\n",
       "      <td>NaN</td>\n",
       "      <td>NaN</td>\n",
       "      <td>0.0</td>\n",
       "      <td>...</td>\n",
       "      <td>NaN</td>\n",
       "      <td>NaN</td>\n",
       "      <td>NaN</td>\n",
       "      <td>NaN</td>\n",
       "      <td>NaN</td>\n",
       "      <td>NaN</td>\n",
       "      <td>NaN</td>\n",
       "      <td>NaN</td>\n",
       "      <td>NaN</td>\n",
       "      <td>NaN</td>\n",
       "    </tr>\n",
       "  </tbody>\n",
       "</table>\n",
       "<p>5 rows × 26 columns</p>\n",
       "</div>"
      ],
      "text/plain": [
       "  iso_code continent     location       date  population  total_cases  \\\n",
       "0      AFG      Asia  Afghanistan 2020-01-03    41128772          NaN   \n",
       "1      AFG      Asia  Afghanistan 2020-01-04    41128772          NaN   \n",
       "2      AFG      Asia  Afghanistan 2020-01-05    41128772          NaN   \n",
       "3      AFG      Asia  Afghanistan 2020-01-06    41128772          NaN   \n",
       "4      AFG      Asia  Afghanistan 2020-01-07    41128772          NaN   \n",
       "\n",
       "   new_cases  new_cases_smoothed  total_deaths  new_deaths  ...  \\\n",
       "0        0.0                 NaN           NaN         0.0  ...   \n",
       "1        0.0                 NaN           NaN         0.0  ...   \n",
       "2        0.0                 NaN           NaN         0.0  ...   \n",
       "3        0.0                 NaN           NaN         0.0  ...   \n",
       "4        0.0                 NaN           NaN         0.0  ...   \n",
       "\n",
       "   new_deaths_smoothed_per_million  reproduction_rate  icu_patients  \\\n",
       "0                              NaN                NaN           NaN   \n",
       "1                              NaN                NaN           NaN   \n",
       "2                              NaN                NaN           NaN   \n",
       "3                              NaN                NaN           NaN   \n",
       "4                              NaN                NaN           NaN   \n",
       "\n",
       "   icu_patients_per_million  hosp_patients  hosp_patients_per_million  \\\n",
       "0                       NaN            NaN                        NaN   \n",
       "1                       NaN            NaN                        NaN   \n",
       "2                       NaN            NaN                        NaN   \n",
       "3                       NaN            NaN                        NaN   \n",
       "4                       NaN            NaN                        NaN   \n",
       "\n",
       "   weekly_icu_admissions  weekly_icu_admissions_per_million  \\\n",
       "0                    NaN                                NaN   \n",
       "1                    NaN                                NaN   \n",
       "2                    NaN                                NaN   \n",
       "3                    NaN                                NaN   \n",
       "4                    NaN                                NaN   \n",
       "\n",
       "   weekly_hosp_admissions  weekly_hosp_admissions_per_million  \n",
       "0                     NaN                                 NaN  \n",
       "1                     NaN                                 NaN  \n",
       "2                     NaN                                 NaN  \n",
       "3                     NaN                                 NaN  \n",
       "4                     NaN                                 NaN  \n",
       "\n",
       "[5 rows x 26 columns]"
      ]
     },
     "execution_count": 7,
     "metadata": {},
     "output_type": "execute_result"
    }
   ],
   "source": [
    "#Importing files into pandas\n",
    "\n",
    "df = pd.read_excel(\"CovidDeaths.xlsx\")\n",
    "df.head()"
   ]
  },
  {
   "cell_type": "code",
   "execution_count": 8,
   "metadata": {},
   "outputs": [
    {
     "data": {
      "text/plain": [
       "'coviddeaths'"
      ]
     },
     "execution_count": 8,
     "metadata": {},
     "output_type": "execute_result"
    }
   ],
   "source": [
    "#Clean table name\n",
    "#Lower case letters\n",
    "#remove all white spaces and $\n",
    "#replace -,/,\\\\ with _\n",
    "\n",
    "file = \"CovidDeaths.\"\n",
    "clean_table_name = file.lower().replace(\" \",\"_\").replace(\"?\",\"\") \\\n",
    "    .replace(\"-\",\"_\").replace(r\"/\",\"_\").replace(\"\\\\\",\"_\").replace(\"%\",\"\") \\\n",
    "        .replace(\")\",\"\").replace(r\"(\",\"\").replace(\"$\",\"\").replace(\".\",\"\") \\\n",
    "        \n",
    "        \n",
    "\n",
    "clean_table_name"
   ]
  },
  {
   "cell_type": "code",
   "execution_count": 9,
   "metadata": {},
   "outputs": [
    {
     "data": {
      "text/plain": [
       "Index(['iso_code', 'continent', 'location', 'date', 'population',\n",
       "       'total_cases', 'new_cases', 'new_cases_smoothed', 'total_deaths',\n",
       "       'new_deaths', 'new_deaths_smoothed', 'total_cases_per_million',\n",
       "       'new_cases_per_million', 'new_cases_smoothed_per_million',\n",
       "       'total_deaths_per_million', 'new_deaths_per_million',\n",
       "       'new_deaths_smoothed_per_million', 'reproduction_rate', 'icu_patients',\n",
       "       'icu_patients_per_million', 'hosp_patients',\n",
       "       'hosp_patients_per_million', 'weekly_icu_admissions',\n",
       "       'weekly_icu_admissions_per_million', 'weekly_hosp_admissions',\n",
       "       'weekly_hosp_admissions_per_million'],\n",
       "      dtype='object')"
      ]
     },
     "execution_count": 9,
     "metadata": {},
     "output_type": "execute_result"
    }
   ],
   "source": [
    "#Clean header name\n",
    "#Lower case letters\n",
    "#remove all white spaces and $\n",
    "#replace -,/,\\\\ with _\n",
    "\n",
    "df.columns = [x.lower().replace(\" \",\"_\").replace(\"?\",\"\") \\\n",
    "    .replace(\"-\",\"_\").replace(r\"/\",\"_\").replace(\"\\\\\",\"_\").replace(\"%\",\"\") \\\n",
    "        .replace(\")\",\"\").replace(r\"(\",\"\").replace(\"$\",\"\").replace(\".\",\"\") for x in df.columns]\n",
    "\n",
    "\n",
    "df.columns"
   ]
  },
  {
   "cell_type": "code",
   "execution_count": 10,
   "metadata": {},
   "outputs": [
    {
     "ename": "SyntaxError",
     "evalue": "invalid syntax (2796403676.py, line 3)",
     "output_type": "error",
     "traceback": [
      "\u001b[1;36m  Cell \u001b[1;32mIn[10], line 3\u001b[1;36m\u001b[0m\n\u001b[1;33m    create table coviddeaths\u001b[0m\n\u001b[1;37m           ^\u001b[0m\n\u001b[1;31mSyntaxError\u001b[0m\u001b[1;31m:\u001b[0m invalid syntax\n"
     ]
    }
   ],
   "source": [
    "#Creating  our database tables in postgres\n",
    "\n",
    "create table coviddeaths\n",
    "(\n",
    "iso_code                                      varchar,\n",
    "continent                                     varchar,\n",
    "location                                      varchar,\n",
    "date                                          date,\n",
    "population                                     bigint,\n",
    "total_cases                                  float,\n",
    "new_cases                                    float,\n",
    "new_cases_smoothed                           float,\n",
    "total_deaths                                 float,\n",
    "new_deaths                                   float,\n",
    "new_deaths_smoothed                          float,\n",
    "total_cases_per_million                      float,\n",
    "new_cases_per_million                        float,\n",
    "new_cases_smoothed_per_million               float,\n",
    "total_deaths_per_million                     float,\n",
    "new_deaths_per_million                       float,\n",
    "new_deaths_smoothed_per_million              float,\n",
    "reproduction_rate                            float,\n",
    "icu_patients                                 float,\n",
    "icu_patients_per_million                     float,\n",
    "hosp_patients                                float,\n",
    "hosp_patients_per_million                    float,\n",
    "weekly_icu_admissions                        float,\n",
    "weekly_icu_admissions_per_million            float,\n",
    "weekly_hosp_admissions                       float,\n",
    "weekly_hosp_admissions_per_million           float,\n",
    ");\n",
    "\n"
   ]
  },
  {
   "cell_type": "code",
   "execution_count": 11,
   "metadata": {},
   "outputs": [
    {
     "data": {
      "text/plain": [
       "iso_code                                      object\n",
       "continent                                     object\n",
       "location                                      object\n",
       "date                                  datetime64[ns]\n",
       "population                                     int64\n",
       "total_cases                                  float64\n",
       "new_cases                                    float64\n",
       "new_cases_smoothed                           float64\n",
       "total_deaths                                 float64\n",
       "new_deaths                                   float64\n",
       "new_deaths_smoothed                          float64\n",
       "total_cases_per_million                      float64\n",
       "new_cases_per_million                        float64\n",
       "new_cases_smoothed_per_million               float64\n",
       "total_deaths_per_million                     float64\n",
       "new_deaths_per_million                       float64\n",
       "new_deaths_smoothed_per_million              float64\n",
       "reproduction_rate                            float64\n",
       "icu_patients                                 float64\n",
       "icu_patients_per_million                     float64\n",
       "hosp_patients                                float64\n",
       "hosp_patients_per_million                    float64\n",
       "weekly_icu_admissions                        float64\n",
       "weekly_icu_admissions_per_million            float64\n",
       "weekly_hosp_admissions                       float64\n",
       "weekly_hosp_admissions_per_million           float64\n",
       "dtype: object"
      ]
     },
     "execution_count": 11,
     "metadata": {},
     "output_type": "execute_result"
    }
   ],
   "source": [
    "#Checking my data types\n",
    "\n",
    "df.dtypes \n",
    "\n"
   ]
  },
  {
   "cell_type": "code",
   "execution_count": 12,
   "metadata": {},
   "outputs": [
    {
     "data": {
      "text/plain": [
       "{'object': 'varchar',\n",
       " 'float64': 'float',\n",
       " 'int64': 'bigint',\n",
       " 'timedelta64[ns]': 'varchar',\n",
       " 'datetime64': 'time',\n",
       " 'bool': 'boolean',\n",
       " 'json_normalize': 'json',\n",
       " 'datetime64[ns]': 'date'}"
      ]
     },
     "execution_count": 12,
     "metadata": {},
     "output_type": "execute_result"
    }
   ],
   "source": [
    "#Created a dictionary to replace pandas datatypes with postgres datatypes\n",
    "\n",
    "replacements = { \n",
    "    'object': 'varchar',\n",
    "    'float64': 'float',\n",
    "    'int64': 'bigint',\n",
    "    'timedelta64[ns]':'varchar',\n",
    "    'datetime64':'timestamp',\n",
    "    'bool': 'boolean',\n",
    "    'json_normalize': 'json',  \n",
    "    'datetime64[ns]': 'date',\n",
    "    'datetime64': 'time'\n",
    "    }\n",
    "\n",
    "replacements"
   ]
  },
  {
   "cell_type": "code",
   "execution_count": 13,
   "metadata": {},
   "outputs": [
    {
     "data": {
      "text/plain": [
       "'iso_code varchar, continent varchar, location varchar, date date, population bigint, total_cases float, new_cases float, new_cases_smoothed float, total_deaths float, new_deaths float, new_deaths_smoothed float, total_cases_per_million float, new_cases_per_million float, new_cases_smoothed_per_million float, total_deaths_per_million float, new_deaths_per_million float, new_deaths_smoothed_per_million float, reproduction_rate float, icu_patients float, icu_patients_per_million float, hosp_patients float, hosp_patients_per_million float, weekly_icu_admissions float, weekly_icu_admissions_per_million float, weekly_hosp_admissions float, weekly_hosp_admissions_per_million float'"
      ]
     },
     "execution_count": 13,
     "metadata": {},
     "output_type": "execute_result"
    }
   ],
   "source": [
    "#joining the database tables their accepted postgres datatypes\n",
    "\n",
    "col_str = \", \".join(\"{} {}\".format(n, d) for (n, d) in zip(df.columns, df.dtypes.replace(replacements)))\n",
    "\n",
    "\n",
    "col_str"
   ]
  },
  {
   "cell_type": "code",
   "execution_count": 14,
   "metadata": {},
   "outputs": [
    {
     "name": "stdout",
     "output_type": "stream",
     "text": [
      "opened the database successfully\n"
     ]
    }
   ],
   "source": [
    "#connecting to the postgres database\n",
    "conn_string =hostname = 'localhost'\n",
    "database = 'projectsdb'\n",
    "username = 'postgres'\n",
    "pwd = 'password'\n",
    "port_id = 5432\n",
    "conn = psycopg2.connect(\n",
    "    host=hostname,\n",
    "    dbname=database,\n",
    "    user=username,\n",
    "    password=pwd,\n",
    "    port=port_id)\n",
    "cursor = conn.cursor()\n",
    "print('opened the database successfully')\n",
    "\n",
    "\n",
    "\n",
    "\n",
    "\n"
   ]
  },
  {
   "cell_type": "code",
   "execution_count": 15,
   "metadata": {},
   "outputs": [],
   "source": [
    "#dropping tables with same name\n",
    "\n",
    "cursor.execute(\"drop table if exists coviddeaths;\")\n",
    "\n"
   ]
  },
  {
   "cell_type": "code",
   "execution_count": 16,
   "metadata": {},
   "outputs": [],
   "source": [
    "#create the table\n",
    "\n",
    "cursor.execute(\"CREATE TABLE coviddeaths \"\n",
    "               \"(iso_code VARCHAR, continent VARCHAR, location VARCHAR, \"\n",
    "               \"date DATE, population BIGINT, total_cases FLOAT, new_cases FLOAT, new_cases_smoothed FLOAT, \"\n",
    "               \"total_deaths FLOAT, new_deaths FLOAT, new_deaths_smoothed FLOAT, total_cases_per_million FLOAT, \"\n",
    "               \"new_cases_per_million FLOAT, new_cases_smoothed_per_million FLOAT, total_deaths_per_million FLOAT, \"\n",
    "               \"new_deaths_per_million FLOAT, new_deaths_smoothed_per_million FLOAT, reproduction_rate FLOAT, \"\n",
    "               \"icu_patients FLOAT, icu_patients_per_million FLOAT, hosp_patients FLOAT, \"\n",
    "               \"hosp_patients_per_million FLOAT, weekly_icu_admissions FLOAT, \"\n",
    "               \"weekly_icu_admissions_per_million FLOAT, weekly_hosp_admissions FLOAT, \"\n",
    "               \"weekly_hosp_admissions_per_million FLOAT)\")\n",
    "\n"
   ]
  },
  {
   "cell_type": "code",
   "execution_count": 17,
   "metadata": {},
   "outputs": [
    {
     "name": "stdout",
     "output_type": "stream",
     "text": [
      "file opened in memory\n"
     ]
    }
   ],
   "source": [
    "#inserting values into the tables\n",
    "\n",
    "#save df to CSV \n",
    "df.to_csv('coviddeaths.csv',header=df.columns,index=False,encoding='utf-8')\n",
    "\n",
    "\n",
    "#open the CSV file,save it as an object \n",
    "\n",
    "my_file = open('coviddeaths.csv')\n",
    "print('file opened in memory')\n"
   ]
  },
  {
   "cell_type": "code",
   "execution_count": 18,
   "metadata": {},
   "outputs": [
    {
     "name": "stdout",
     "output_type": "stream",
     "text": [
      "file copied to db\n"
     ]
    }
   ],
   "source": [
    "#upload the object to db\n",
    "\n",
    "SQL_STATEMENT = \"\"\"\n",
    "COPY coviddeaths FROM STDIN WITH \n",
    "   CSV\n",
    "   HEADER\n",
    "   DELIMITER AS ','\n",
    "\"\"\"\n",
    "cursor.copy_expert(sql=SQL_STATEMENT,file=my_file)\n",
    "print('file copied to db')"
   ]
  },
  {
   "cell_type": "code",
   "execution_count": 19,
   "metadata": {},
   "outputs": [
    {
     "name": "stdout",
     "output_type": "stream",
     "text": [
      "coviddeaths tables imported to postgres Successfully\n"
     ]
    }
   ],
   "source": [
    "#Granting user access\n",
    "\n",
    "cursor.execute(\"grant select on table coviddeaths to public\")\n",
    "conn.commit()\n",
    "\n",
    "cursor.close()\n",
    "print('coviddeaths tables imported to postgres Successfully')"
   ]
  },
  {
   "cell_type": "code",
   "execution_count": null,
   "metadata": {},
   "outputs": [],
   "source": []
  },
  {
   "cell_type": "code",
   "execution_count": null,
   "metadata": {},
   "outputs": [],
   "source": []
  },
  {
   "cell_type": "code",
   "execution_count": null,
   "metadata": {},
   "outputs": [],
   "source": []
  },
  {
   "cell_type": "code",
   "execution_count": null,
   "metadata": {},
   "outputs": [],
   "source": []
  }
 ],
 "metadata": {
  "kernelspec": {
   "display_name": "DA-env",
   "language": "python",
   "name": "python3"
  },
  "language_info": {
   "codemirror_mode": {
    "name": "ipython",
    "version": 3
   },
   "file_extension": ".py",
   "mimetype": "text/x-python",
   "name": "python",
   "nbconvert_exporter": "python",
   "pygments_lexer": "ipython3",
   "version": "3.11.7"
  }
 },
 "nbformat": 4,
 "nbformat_minor": 2
}
